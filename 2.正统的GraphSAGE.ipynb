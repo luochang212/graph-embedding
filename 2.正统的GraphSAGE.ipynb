{
 "cells": [
  {
   "cell_type": "markdown",
   "id": "0595dca0-ebb6-4b87-ad97-7bd39e319a02",
   "metadata": {},
   "source": [
    "# 正统的 GraphSAGE\n",
    "\n",
    "上一节，我们介绍了 [简单版 GraphSAGE 算法](https://github.com/williamleif/graphsage-simple)。在简单版算法中，一些与理解无关的工程部分的东西被省略了。作为严肃的工程师，俺们还是要跑跑 [正统的 GraphSAGE](https://github.com/williamleif/GraphSAGE) 哈。"
   ]
  },
  {
   "cell_type": "markdown",
   "id": "26f75269-bb54-4ff1-9ed7-b89fe232fa8c",
   "metadata": {},
   "source": [
    "## 1. 配置 Docker 环境\n",
    "\n",
    "看了眼作者的 `requirements.txt` 里一堆不知道是啥、还锁版本的包就头大。所幸作者提供了 Docker，不然我自己也要开虚拟环境的。\n",
    "\n",
    "下载 git 仓库。来到 Dockerfile 所在目录，运行：\n",
    "\n",
    "```bash\n",
    "docker build -t graphsage .\n",
    "```\n",
    "\n",
    "注意！！！为了你的身心健康，非常建议你在运行以上代码前修改 Dockerfile。在 pip 后面指定使用阿里源下载，否则你就会像我一样，安装十分钟然后失败 (´;ω;`)\n",
    "\n",
    "大人请改：\n",
    "\n",
    "```\n",
    "RUN pip install networkx==1.11 -i https://mirrors.aliyun.com/pypi/simple/\n",
    "```\n",
    "\n",
    "一旦镜像安装完成，运行以下代码启动一个容器：\n",
    "\n",
    "```bash\n",
    "# 映射到本地的 9999 是因为我本地 8888 已经开了一个 Jupyter\n",
    "# 如果你没开，那映射到 8888 就好\n",
    "docker run -it -p 9999:8888 graphsage\n",
    "```\n",
    "\n",
    "打开 [http://localhost:9999](http://localhost:9999)，token 用日志那个 token 就行。"
   ]
  },
  {
   "cell_type": "markdown",
   "id": "8a7af0cb-ac9d-4a85-8adf-0ac34440fbe6",
   "metadata": {},
   "source": [
    "## 2. 运行示例\n",
    "\n",
    "打开 Jupyter 的 Terminal，运行监督学习：\n",
    "\n",
    "```bash\n",
    "python -m graphsage.supervised_train --train_prefix ./example_data/toy-ppi --model graphsage_mean --sigmoid\n",
    "```\n",
    "\n",
    "再试试无监督学习：\n",
    "\n",
    "```bash\n",
    "python -m graphsage.unsupervised_train --train_prefix ./example_data/toy-ppi --model graphsage_mean --max_total_steps 1000 --validate_iter 10\n",
    "```\n",
    "\n",
    "都没有问题。但是要在 `ppi` 前面加一个 `toy-`，作者光改数据文件忘改代码了。"
   ]
  },
  {
   "cell_type": "code",
   "execution_count": null,
   "id": "4e13fbaa-40bc-431c-9592-04d3b207213e",
   "metadata": {},
   "outputs": [],
   "source": []
  }
 ],
 "metadata": {
  "kernelspec": {
   "display_name": "Python 3 (ipykernel)",
   "language": "python",
   "name": "python3"
  },
  "language_info": {
   "codemirror_mode": {
    "name": "ipython",
    "version": 3
   },
   "file_extension": ".py",
   "mimetype": "text/x-python",
   "name": "python",
   "nbconvert_exporter": "python",
   "pygments_lexer": "ipython3",
   "version": "3.10.14"
  }
 },
 "nbformat": 4,
 "nbformat_minor": 5
}
