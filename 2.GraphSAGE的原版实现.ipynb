{
 "cells": [
  {
   "cell_type": "markdown",
   "id": "0595dca0-ebb6-4b87-ad97-7bd39e319a02",
   "metadata": {},
   "source": [
    "# GraphSAGE 的原版实现\n",
    "\n",
    "上一节，我们运行了 [精简版 GraphSAGE 算法](https://github.com/williamleif/graphsage-simple)。在精简版中，一些与理解无关的工程代码被省略了。作为严肃的工程师，我们还是要跑跑原版的 GraphSAGE 的。\n",
    "\n",
    "原版实现: [williamleif/GraphSAGE](https://github.com/williamleif/GraphSAGE)"
   ]
  },
  {
   "cell_type": "markdown",
   "id": "26f75269-bb54-4ff1-9ed7-b89fe232fa8c",
   "metadata": {},
   "source": [
    "## 1. 配置 Docker 环境\n",
    "\n",
    "看了眼作者的 `requirements.txt` 里一堆不知道是啥还锁版本的包就头大。所幸作者提供了 Docker.\n",
    "\n",
    "来到 Dockerfile 所在目录，如果你是中国大陆网友，请先修改 Dockerfile，不然大概率要下载失败。大人请改：\n",
    "\n",
    "```\n",
    "# 用阿里源下载\n",
    "RUN pip install networkx==1.11 \\\n",
    "    -i https://mirrors.aliyun.com/pypi/simple/\n",
    "```\n",
    "\n",
    "现在可以运行：\n",
    "\n",
    "```\n",
    "docker build -t graphsage .\n",
    "```\n",
    "\n",
    "一旦镜像安装完成，运行以下代码以启动容器：\n",
    "\n",
    "```\n",
    "# 我映射到 9999 是因为我本地 8888 已经开了一个 Jupyter\n",
    "# 如果你啥也没开，映射到 8888 就好\n",
    "# docker run -it -p 8888:8888 graphsage\n",
    "\n",
    "docker run -it -p 9999:8888 graphsage\n",
    "```\n",
    "\n",
    "容器启动后，浏览器打开 [http://localhost:9999](http://localhost:9999)。这里会要求你输入 token，用容器日志里那个 token 就行。"
   ]
  },
  {
   "cell_type": "markdown",
   "id": "8a7af0cb-ac9d-4a85-8adf-0ac34440fbe6",
   "metadata": {},
   "source": [
    "## 2. 运行原版示例\n",
    "\n",
    "作者给了一些示例，让我们能快速 ᕕ( ᐛ )ᕗ 起来。\n",
    "\n",
    "首先是有监督学习的代码。\n",
    "\n",
    "在容器提供的 Jupyter Notebook 里打开 Terminal，运行：\n",
    "\n",
    "```\n",
    "python -m graphsage.supervised_train \\\n",
    "    --train_prefix ./example_data/toy-ppi \\\n",
    "    --model graphsage_mean \\\n",
    "    --sigmoid\n",
    "```\n",
    "\n",
    "再试试无监督学习的代码：\n",
    "\n",
    "```\n",
    "python -m graphsage.unsupervised_train \\\n",
    "    --train_prefix ./example_data/toy-ppi \\\n",
    "    --model graphsage_mean \\\n",
    "    --max_total_steps 1000 \\\n",
    "    --validate_iter 10\n",
    "```\n",
    "\n",
    "都成功了，没有问题。唯一需要注意的是，源码 `ppi` 前漏了一个 `toy-`。估计作者光改数据忘改代码了。"
   ]
  },
  {
   "cell_type": "code",
   "execution_count": null,
   "id": "4e13fbaa-40bc-431c-9592-04d3b207213e",
   "metadata": {},
   "outputs": [],
   "source": []
  }
 ],
 "metadata": {
  "kernelspec": {
   "display_name": "Python 3 (ipykernel)",
   "language": "python",
   "name": "python3"
  },
  "language_info": {
   "codemirror_mode": {
    "name": "ipython",
    "version": 3
   },
   "file_extension": ".py",
   "mimetype": "text/x-python",
   "name": "python",
   "nbconvert_exporter": "python",
   "pygments_lexer": "ipython3",
   "version": "3.10.14"
  }
 },
 "nbformat": 4,
 "nbformat_minor": 5
}
