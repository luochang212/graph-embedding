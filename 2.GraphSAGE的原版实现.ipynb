{
 "cells": [
  {
   "cell_type": "markdown",
   "id": "0595dca0-ebb6-4b87-ad97-7bd39e319a02",
   "metadata": {},
   "source": [
    "# GraphSAGE 的原版实现\n",
    "\n",
    "上一节我们尝试了 [GraphSAGE 的简单版实现](https://github.com/williamleif/graphsage-simple)。在简单实现中，一些与理解无关的复杂性被省略了。作为一名严肃的工程师，当然要跑跑 [原版 GraphSAGE](https://github.com/williamleif/GraphSAGE) 实现。"
   ]
  },
  {
   "cell_type": "markdown",
   "id": "26f75269-bb54-4ff1-9ed7-b89fe232fa8c",
   "metadata": {},
   "source": [
    "## 1. 配置 Docker 环境\n",
    "\n",
    "看了作者的 `requirements.txt` 里一堆不知道是啥还锁版本的包就头大，所幸作者提供了 Docker。\n",
    "\n",
    "首先来到 Dockerfile 所在目录。\n",
    "\n",
    "> **Note:** 如果你是中国大陆网友，请等一等，你需要先修改 Dockerfile，否则大概率会运行失败。\n",
    "> \n",
    "> 你需要打开 Dockerfile，为 pip 换源：\n",
    "> \n",
    "> ```\n",
    "> # 用阿里源\n",
    "> RUN pip install networkx==1.11 \\\n",
    ">     -i https://mirrors.aliyun.com/pypi/simple/\n",
    "> ```\n",
    "\n",
    "现在可以运行：\n",
    "\n",
    "```\n",
    "docker build -t graphsage .\n",
    "```\n",
    "\n",
    "一旦镜像安装完成，运行以下代码，启动容器：\n",
    "\n",
    "```\n",
    "# 映射到 9999 是因为我本地 8888 已经开了一个 Jupyter\n",
    "# 如果你啥也没开，映射到 8888 就好\n",
    "# docker run -it -p 8888:8888 graphsage\n",
    "\n",
    "docker run -it -p 9999:8888 graphsage\n",
    "```\n",
    "\n",
    "容器启动后，在浏览器打开 [http://localhost:9999](http://localhost:9999)。网页会要求输入 token，用容器日志里那个就行。"
   ]
  },
  {
   "cell_type": "markdown",
   "id": "8a7af0cb-ac9d-4a85-8adf-0ac34440fbe6",
   "metadata": {},
   "source": [
    "## 2. 运行原版示例\n",
    "\n",
    "作者给了一些 demo，让我们能快速跑起来 ᕕ( ᐛ )ᕗ\n",
    "\n",
    "### 2.1 有监督学习\n",
    "\n",
    "在容器提供的 Jupyter Notebook 里打开 Terminal，运行：\n",
    "\n",
    "```\n",
    "python -m graphsage.supervised_train \\\n",
    "    --train_prefix ./example_data/toy-ppi \\\n",
    "    --model graphsage_mean \\\n",
    "    --sigmoid\n",
    "```\n",
    "\n",
    "### 2.2 无监督学习\n",
    "\n",
    "```\n",
    "python -m graphsage.unsupervised_train \\\n",
    "    --train_prefix ./example_data/toy-ppi \\\n",
    "    --model graphsage_mean \\\n",
    "    --max_total_steps 1000 \\\n",
    "    --validate_iter 10\n",
    "```\n",
    "\n",
    "没有问题，都成功了。唯一需要注意的是，源码 `ppi` 前漏了一个 `toy-`。应该是作者光改数据忘改代码了。"
   ]
  },
  {
   "cell_type": "code",
   "execution_count": null,
   "id": "4e13fbaa-40bc-431c-9592-04d3b207213e",
   "metadata": {},
   "outputs": [],
   "source": []
  }
 ],
 "metadata": {
  "kernelspec": {
   "display_name": "Python 3 (ipykernel)",
   "language": "python",
   "name": "python3"
  },
  "language_info": {
   "codemirror_mode": {
    "name": "ipython",
    "version": 3
   },
   "file_extension": ".py",
   "mimetype": "text/x-python",
   "name": "python",
   "nbconvert_exporter": "python",
   "pygments_lexer": "ipython3",
   "version": "3.10.14"
  }
 },
 "nbformat": 4,
 "nbformat_minor": 5
}
