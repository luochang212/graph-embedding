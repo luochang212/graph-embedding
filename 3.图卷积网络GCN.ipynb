{
 "cells": [
  {
   "cell_type": "markdown",
   "id": "9ecf4958-1ec3-4ef1-a832-b63c772c4a8f",
   "metadata": {},
   "source": [
    "# 图卷积网络 GCN\n",
    "\n",
    "- PyG: [conv.GCNConv](https://pytorch-geometric.readthedocs.io/en/latest/generated/torch_geometric.nn.conv.GCNConv.html#torch-geometric-nn-conv-gcnconv)\n",
    "- arXiv: [Semi-Supervised Classification with Graph Convolutional Networks](https://arxiv.org/abs/1609.02907)\n",
    "- GitHub: [tkipf/gcn](https://github.com/tkipf/gcn)"
   ]
  },
  {
   "cell_type": "code",
   "execution_count": 1,
   "id": "0026a633-8a1c-46d5-8b27-34300ffaf48b",
   "metadata": {
    "execution": {
     "iopub.execute_input": "2024-08-10T14:16:05.376120Z",
     "iopub.status.busy": "2024-08-10T14:16:05.375434Z",
     "iopub.status.idle": "2024-08-10T14:16:05.380603Z",
     "shell.execute_reply": "2024-08-10T14:16:05.379319Z",
     "shell.execute_reply.started": "2024-08-10T14:16:05.376084Z"
    }
   },
   "outputs": [],
   "source": [
    "# !conda install pyg -c pyg"
   ]
  },
  {
   "cell_type": "code",
   "execution_count": 2,
   "id": "97ebb03e-e38f-453b-bee8-75dfbaca2bdc",
   "metadata": {
    "execution": {
     "iopub.execute_input": "2024-08-10T14:16:05.382635Z",
     "iopub.status.busy": "2024-08-10T14:16:05.382003Z",
     "iopub.status.idle": "2024-08-10T14:16:12.549176Z",
     "shell.execute_reply": "2024-08-10T14:16:12.547724Z",
     "shell.execute_reply.started": "2024-08-10T14:16:05.382602Z"
    }
   },
   "outputs": [],
   "source": [
    "import torch\n",
    "import torch.nn.functional as F\n",
    "from torch_geometric.data import Data\n",
    "from torch_geometric.nn import GCNConv\n",
    "\n",
    "import matplotlib.pyplot as plt\n",
    "\n",
    "import util"
   ]
  },
  {
   "cell_type": "code",
   "execution_count": 3,
   "id": "4762c82d-a942-419d-a3f4-69257aa64d6f",
   "metadata": {
    "execution": {
     "iopub.execute_input": "2024-08-10T14:16:12.551046Z",
     "iopub.status.busy": "2024-08-10T14:16:12.550541Z",
     "iopub.status.idle": "2024-08-10T14:16:12.555793Z",
     "shell.execute_reply": "2024-08-10T14:16:12.554910Z",
     "shell.execute_reply.started": "2024-08-10T14:16:12.551014Z"
    }
   },
   "outputs": [],
   "source": [
    "CORA_PATH = './data'\n",
    "EDGE_FILE = 'cora.cites'\n",
    "FEAT_FILE = 'cora.content'"
   ]
  },
  {
   "cell_type": "markdown",
   "id": "6ff594ce-0d2b-442f-bb76-f879c6ff8d04",
   "metadata": {},
   "source": [
    "## 1. 加载数据的极简示例\n",
    "\n",
    "PyG 用一个叫 `torch_geometric.data.Data` 的数据结构存储图数据。我们可以把图的节点特征和节点间的关联关系存储在这个数据结构里。"
   ]
  },
  {
   "cell_type": "code",
   "execution_count": 4,
   "id": "5623df0d-c07e-4470-874d-f194ba113c06",
   "metadata": {
    "execution": {
     "iopub.execute_input": "2024-08-10T14:16:12.558357Z",
     "iopub.status.busy": "2024-08-10T14:16:12.557888Z",
     "iopub.status.idle": "2024-08-10T14:16:12.569774Z",
     "shell.execute_reply": "2024-08-10T14:16:12.568647Z",
     "shell.execute_reply.started": "2024-08-10T14:16:12.558326Z"
    }
   },
   "outputs": [
    {
     "data": {
      "text/plain": [
       "Data(x=[3, 1], edge_index=[2, 4])"
      ]
     },
     "execution_count": 4,
     "metadata": {},
     "output_type": "execute_result"
    }
   ],
   "source": [
    "edge_index = torch.tensor([[0, 1],\n",
    "                           [1, 0],\n",
    "                           [1, 2],\n",
    "                           [2, 1]], dtype=torch.long)\n",
    "x = torch.tensor([[-1], [0], [1]], dtype=torch.float)\n",
    "\n",
    "data = Data(x=x, edge_index=edge_index.t().contiguous())\n",
    "data"
   ]
  },
  {
   "cell_type": "code",
   "execution_count": 5,
   "id": "ee27b1ba-bfe3-4216-831d-a8a04ade4567",
   "metadata": {
    "execution": {
     "iopub.execute_input": "2024-08-10T14:16:12.576218Z",
     "iopub.status.busy": "2024-08-10T14:16:12.575818Z",
     "iopub.status.idle": "2024-08-10T14:16:12.583069Z",
     "shell.execute_reply": "2024-08-10T14:16:12.581956Z",
     "shell.execute_reply.started": "2024-08-10T14:16:12.576188Z"
    }
   },
   "outputs": [
    {
     "data": {
      "text/plain": [
       "True"
      ]
     },
     "execution_count": 5,
     "metadata": {},
     "output_type": "execute_result"
    }
   ],
   "source": [
    "data.validate(raise_on_error=True)"
   ]
  },
  {
   "cell_type": "code",
   "execution_count": 6,
   "id": "cc045b58-69f2-4802-ab58-14c094d84d34",
   "metadata": {
    "execution": {
     "iopub.execute_input": "2024-08-10T14:16:12.585004Z",
     "iopub.status.busy": "2024-08-10T14:16:12.584614Z",
     "iopub.status.idle": "2024-08-10T14:16:12.593862Z",
     "shell.execute_reply": "2024-08-10T14:16:12.593021Z",
     "shell.execute_reply.started": "2024-08-10T14:16:12.584976Z"
    }
   },
   "outputs": [
    {
     "name": "stdout",
     "output_type": "stream",
     "text": [
      "data.keys(): ['x', 'edge_index']\n",
      "data[\"edge_index\"]: tensor([[0, 1, 1, 2],\n",
      "        [1, 0, 2, 1]])\n",
      "data[\"x\"]: tensor([[-1.],\n",
      "        [ 0.],\n",
      "        [ 1.]])\n",
      "data.num_nodes: 3\n",
      "data.num_edges: 4\n",
      "data.num_node_features: 1\n",
      "data.has_isolated_nodes(): False\n",
      "data.has_self_loops(): False\n",
      "data.is_directed(): False\n"
     ]
    }
   ],
   "source": [
    "lst = [\n",
    "    f'data.keys(): {data.keys()}',\n",
    "    f'data[\"edge_index\"]: {data[\"edge_index\"]}',\n",
    "    f'data[\"x\"]: {data[\"x\"]}',\n",
    "    f'data.num_nodes: {data.num_nodes}',\n",
    "    f'data.num_edges: {data.num_edges}',\n",
    "    f'data.num_node_features: {data.num_node_features}',\n",
    "    f'data.has_isolated_nodes(): {data.has_isolated_nodes()}',\n",
    "    f'data.has_self_loops(): {data.has_self_loops()}',\n",
    "    f'data.is_directed(): {data.is_directed()}'\n",
    "]\n",
    "print('\\n'.join(lst))"
   ]
  },
  {
   "cell_type": "markdown",
   "id": "978e68aa-aef4-4e54-9170-ac8a15d2f037",
   "metadata": {
    "execution": {
     "iopub.execute_input": "2024-08-09T09:14:44.809083Z",
     "iopub.status.busy": "2024-08-09T09:14:44.808635Z",
     "iopub.status.idle": "2024-08-09T09:14:44.815848Z",
     "shell.execute_reply": "2024-08-09T09:14:44.815055Z",
     "shell.execute_reply.started": "2024-08-09T09:14:44.809050Z"
    }
   },
   "source": [
    "## 2. 加载 cora 数据集"
   ]
  },
  {
   "cell_type": "code",
   "execution_count": 7,
   "id": "546c2858-0e13-4cf3-bd84-3b0a45671970",
   "metadata": {
    "execution": {
     "iopub.execute_input": "2024-08-10T14:16:12.596179Z",
     "iopub.status.busy": "2024-08-10T14:16:12.595832Z",
     "iopub.status.idle": "2024-08-10T14:16:13.376218Z",
     "shell.execute_reply": "2024-08-10T14:16:13.375096Z",
     "shell.execute_reply.started": "2024-08-10T14:16:12.596149Z"
    }
   },
   "outputs": [],
   "source": [
    "def load_cora(edge_path, feat_path):\n",
    "    \"\"\"加载 cora 数据集\n",
    "\n",
    "    :param edge_path: cora 数据集边文件 \n",
    "    :param feat_path: cora 数据集节点特征文件\n",
    "\n",
    "    :return node_to_noi: 节点到节点下标的字典\n",
    "    :return noi_to_feat: 节点下标到节点特征的字典\n",
    "    :return noi_to_label: 节点下标到节点标签的字典\n",
    "    :return label_map: 节点标签值到节点标签的字典\n",
    "    \"\"\"\n",
    "    # noi: node_index\n",
    "    node_to_noi = dict()\n",
    "    noi_to_feat = dict()\n",
    "    noi_to_label = dict()\n",
    "    label_map = dict()\n",
    "    with open(feat_path) as fp:\n",
    "        for i, line in enumerate(fp):\n",
    "            info = line.strip().split()\n",
    "\n",
    "            node_to_noi[info[0]] = i\n",
    "            noi_to_feat[i] = [int(e) for e in info[1:-1]]\n",
    "            if info[-1] not in label_map:\n",
    "                label_map[info[-1]] = len(label_map)\n",
    "            noi_to_label[i] = label_map[info[-1]]\n",
    "\n",
    "    edge_list = list()\n",
    "    with open(edge_path) as fp:\n",
    "        for line in fp:\n",
    "            info = line.strip().split()\n",
    "\n",
    "            node_a = node_to_noi[info[0]]\n",
    "            node_b = node_to_noi[info[1]]\n",
    "            edge_list.append([node_a, node_b])\n",
    "\n",
    "    return edge_list, noi_to_feat, noi_to_label, label_map\n",
    "\n",
    "edge_path = util.gen_abspath(CORA_PATH, EDGE_FILE)\n",
    "feat_path = util.gen_abspath(CORA_PATH, FEAT_FILE)\n",
    "edge_list, feat_dict, label_dict, label_map = load_cora(edge_path, feat_path)"
   ]
  },
  {
   "cell_type": "code",
   "execution_count": 8,
   "id": "128ee001-2714-47e2-9430-b3e8cbd1eb76",
   "metadata": {
    "execution": {
     "iopub.execute_input": "2024-08-10T14:16:13.378144Z",
     "iopub.status.busy": "2024-08-10T14:16:13.377738Z",
     "iopub.status.idle": "2024-08-10T14:16:13.747556Z",
     "shell.execute_reply": "2024-08-10T14:16:13.746729Z",
     "shell.execute_reply.started": "2024-08-10T14:16:13.378115Z"
    }
   },
   "outputs": [
    {
     "data": {
      "text/plain": [
       "Data(x=[2708, 1433], edge_index=[2, 5429], y=[2708])"
      ]
     },
     "execution_count": 8,
     "metadata": {},
     "output_type": "execute_result"
    }
   ],
   "source": [
    "# 把 cora 数据集加载成 PyG data\n",
    "def create_pyg_cora_data(edge_list, feat_dict, label_dict):\n",
    "    edge_index = torch.tensor(edge_list, dtype=torch.long)\n",
    "\n",
    "    feat_list = [f[1] for f in sorted(feat_dict.items(), key=lambda e: e[0])]\n",
    "    label_list = [l[1] for l in sorted(label_dict.items(), key=lambda e: e[0])]\n",
    "    x = torch.tensor(feat_list, dtype=torch.float)\n",
    "    y = torch.tensor(label_list, dtype=torch.long)\n",
    "\n",
    "    return Data(x=x, y=y, edge_index=edge_index.t().contiguous())\n",
    "\n",
    "cora_data = create_pyg_cora_data(edge_list, feat_dict, label_dict)\n",
    "cora_data"
   ]
  },
  {
   "cell_type": "code",
   "execution_count": 9,
   "id": "b601d9fe-16af-4f15-90df-f9f2fa0e554b",
   "metadata": {
    "execution": {
     "iopub.execute_input": "2024-08-10T14:16:13.749292Z",
     "iopub.status.busy": "2024-08-10T14:16:13.748869Z",
     "iopub.status.idle": "2024-08-10T14:16:13.757746Z",
     "shell.execute_reply": "2024-08-10T14:16:13.756666Z",
     "shell.execute_reply.started": "2024-08-10T14:16:13.749261Z"
    }
   },
   "outputs": [],
   "source": [
    "# 随机分割训练集、验证集和测试集\n",
    "def random_split_cora_data(data, train_rate, val_rate):\n",
    "    assert train_rate + val_rate < 1\n",
    "    N = data.num_nodes\n",
    "\n",
    "    # 样本量\n",
    "    num_train = int(N * train_rate)\n",
    "    num_val = int(N * val_rate)\n",
    "    num_test = N - num_train - num_val\n",
    "\n",
    "    # 掩码初始化\n",
    "    train_mask = torch.zeros(N, dtype=torch.bool)\n",
    "    val_mask = torch.zeros(N, dtype=torch.bool)\n",
    "    test_mask = torch.zeros(N, dtype=torch.bool)\n",
    "\n",
    "    # 索引随机化\n",
    "    perm = torch.randperm(N)\n",
    "\n",
    "    # 按样本量分割数据集\n",
    "    train_mask[perm[:num_train]] = True\n",
    "    val_mask[perm[num_train:num_train+num_val]] = True\n",
    "    test_mask[perm[num_train+num_val:]] = True\n",
    "\n",
    "    # 将掩码添加到 data\n",
    "    data.train_mask = train_mask\n",
    "    data.val_mask = val_mask\n",
    "    data.test_mask = test_mask\n",
    "\n",
    "    return data\n",
    "\n",
    "cora_dataset = random_split_cora_data(data=cora_data,\n",
    "                                      train_rate=0.6,\n",
    "                                      val_rate=0.2)"
   ]
  },
  {
   "cell_type": "markdown",
   "id": "c7b71baf-022c-4ffe-a000-b60ae6d6843f",
   "metadata": {},
   "source": [
    "## 3. 训练 GCN 模型\n",
    "\n",
    "用 GCN 训练一个节点分类模型，真实标签存储在 `cora_data.y`"
   ]
  },
  {
   "cell_type": "code",
   "execution_count": 10,
   "id": "749e0dd3-1cc8-4c8b-aef1-170966e9a728",
   "metadata": {
    "execution": {
     "iopub.execute_input": "2024-08-10T14:16:13.759909Z",
     "iopub.status.busy": "2024-08-10T14:16:13.759537Z",
     "iopub.status.idle": "2024-08-10T14:16:13.766639Z",
     "shell.execute_reply": "2024-08-10T14:16:13.765679Z",
     "shell.execute_reply.started": "2024-08-10T14:16:13.759880Z"
    }
   },
   "outputs": [],
   "source": [
    "class GCN(torch.nn.Module):\n",
    "\n",
    "    def __init__(self, data, hidden_channels):\n",
    "        super().__init__()\n",
    "        num_classes = len({e.item() for e in data.y})\n",
    "        self.conv1 = GCNConv(data.num_node_features, hidden_channels)\n",
    "        self.conv2 = GCNConv(hidden_channels, num_classes)\n",
    "\n",
    "    def forward(self, data):\n",
    "        x, edge_index = data.x, data.edge_index\n",
    "\n",
    "        x = self.conv1(x, edge_index)\n",
    "        x = F.relu(x)\n",
    "        x = F.dropout(x, training=self.training)\n",
    "        x = self.conv2(x, edge_index)\n",
    "\n",
    "        return F.log_softmax(x, dim=1)"
   ]
  },
  {
   "cell_type": "code",
   "execution_count": 11,
   "id": "68c3091d-4524-4a24-aa34-d3d2bf655912",
   "metadata": {
    "execution": {
     "iopub.execute_input": "2024-08-10T14:16:13.768993Z",
     "iopub.status.busy": "2024-08-10T14:16:13.768586Z",
     "iopub.status.idle": "2024-08-10T14:16:14.708668Z",
     "shell.execute_reply": "2024-08-10T14:16:14.707396Z",
     "shell.execute_reply.started": "2024-08-10T14:16:13.768963Z"
    }
   },
   "outputs": [
    {
     "data": {
      "image/png": "[encoded data removed]",
      "text/plain": [
       "<Figure size 640x480 with 1 Axes>"
      ]
     },
     "metadata": {},
     "output_type": "display_data"
    }
   ],
   "source": [
    "device = torch.device('cuda' if torch.cuda.is_available() else 'cpu')\n",
    "model = GCN(data=cora_data, hidden_channels=16).to(device)\n",
    "data = cora_dataset.to(device)\n",
    "optimizer = torch.optim.Adam(model.parameters(),\n",
    "                             lr=0.01,\n",
    "                             weight_decay=5e-4)\n",
    "\n",
    "\n",
    "\n",
    "def train(model, optimizer, data, num_epoch):\n",
    "    model.train()\n",
    "    train_loss_list = list()\n",
    "    val_loss_list = list()\n",
    "    for epoch in range(num_epoch):\n",
    "        optimizer.zero_grad()\n",
    "        out = model(data)\n",
    "        train_loss = F.nll_loss(out[data.train_mask], data.y[data.train_mask])\n",
    "        train_loss.backward()\n",
    "        optimizer.step()\n",
    "        \n",
    "        # 记录一下 train loss\n",
    "        train_loss_list.append(train_loss.item())\n",
    "    \n",
    "        # 记录一下 validate loss\n",
    "        val_loss = F.nll_loss(out[data.val_mask], data.y[data.val_mask])\n",
    "        val_loss_list.append(val_loss.item())\n",
    "\n",
    "    return model, train_loss_list, val_loss_list\n",
    "\n",
    "\n",
    "def plot_loss(train_loss, val_loss):\n",
    "    plt.plot(train_loss, label='train loss')\n",
    "    plt.plot(val_loss, label='val loss')\n",
    "    plt.xlabel('epoch')\n",
    "    plt.ylabel('loss')\n",
    "    plt.title('GCN Model Loss')\n",
    "    plt.legend()\n",
    "    plt.show()\n",
    "\n",
    "\n",
    "model, train_loss_list, val_loss_list = train(model, optimizer, data, 100)\n",
    "plot_loss(train_loss_list, val_loss_list)"
   ]
  },
  {
   "cell_type": "code",
   "execution_count": 12,
   "id": "acb8001a-3003-44a4-a62a-0034304bc64c",
   "metadata": {
    "execution": {
     "iopub.execute_input": "2024-08-10T14:16:14.710322Z",
     "iopub.status.busy": "2024-08-10T14:16:14.709832Z",
     "iopub.status.idle": "2024-08-10T14:16:14.729364Z",
     "shell.execute_reply": "2024-08-10T14:16:14.728369Z",
     "shell.execute_reply.started": "2024-08-10T14:16:14.710291Z"
    }
   },
   "outputs": [
    {
     "name": "stdout",
     "output_type": "stream",
     "text": [
      "Embedding.shape of test dataset: torch.Size([543, 7])\n",
      "Top 5 Embedding of test dataset: tensor([[-7.5630e+00, -5.0926e+00, -5.7177e-01, -1.0233e+01, -8.6609e-01,\n",
      "         -6.3355e+00, -5.0499e+00],\n",
      "        [-9.0040e-03, -1.3185e+01, -1.2919e+01, -4.8089e+00, -7.1333e+00,\n",
      "         -1.2599e+01, -1.3768e+01],\n",
      "        [-1.3912e+01, -1.1712e+01, -9.9154e+00, -1.4589e+01, -2.4268e-04,\n",
      "         -1.3534e+01, -8.6099e+00],\n",
      "        [-6.2107e-01, -8.6634e+00, -1.3783e+01, -7.7259e-01, -7.5641e+00,\n",
      "         -9.0155e+00, -1.2620e+01],\n",
      "        [-3.6554e-01, -5.0221e+00, -3.8717e+00, -1.7060e+00, -3.1505e+00,\n",
      "         -3.3455e+00, -3.9579e+00]], grad_fn=<SliceBackward0>)\n",
      "Accuracy: 0.8398\n",
      "Top 5 pred label of test dataset: ['Reinforcement_Learning', 'Neural_Networks', 'Theory', 'Neural_Networks', 'Neural_Networks']\n",
      "Top 5 true label of test dataset: ['Theory', 'Neural_Networks', 'Theory', 'Neural_Networks', 'Neural_Networks']\n"
     ]
    }
   ],
   "source": [
    "# 用测试集做推理\n",
    "out = model(data)\n",
    "print(f'Embedding.shape of test dataset: {out[data.test_mask].shape}')\n",
    "print(f'Top 5 Embedding of test dataset: {out[data.test_mask][:5]}')\n",
    "\n",
    "# 标签到标签值的映射\n",
    "reversed_label_map = {v:k for k, v in label_map.items()}\n",
    "\n",
    "# 评估指标\n",
    "model.eval()\n",
    "pred = model(data).argmax(dim=1)\n",
    "correct = (pred[data.test_mask] == data.y[data.test_mask]).sum()\n",
    "acc = correct.item() / data.test_mask.sum().item()\n",
    "print(f'Accuracy: {acc:.4f}')\n",
    "\n",
    "# 打印前 5 个预测标签和真实标签\n",
    "top_5_pred_label = [reversed_label_map[e.item()] for e in pred[data.test_mask][:5]]\n",
    "top_5_true_label = [reversed_label_map[e.item()] for e in data.y[data.test_mask][:5]]\n",
    "print(f'Top 5 pred label of test dataset: {top_5_pred_label}')\n",
    "print(f'Top 5 true label of test dataset: {top_5_true_label}')"
   ]
  },
  {
   "cell_type": "code",
   "execution_count": null,
   "id": "d5e0e405-3a59-4594-9860-17bb30cf2d24",
   "metadata": {},
   "outputs": [],
   "source": []
  }
 ],
 "metadata": {
  "kernelspec": {
   "display_name": "Python 3 (ipykernel)",
   "language": "python",
   "name": "python3"
  },
  "language_info": {
   "codemirror_mode": {
    "name": "ipython",
    "version": 3
   },
   "file_extension": ".py",
   "mimetype": "text/x-python",
   "name": "python",
   "nbconvert_exporter": "python",
   "pygments_lexer": "ipython3",
   "version": "3.10.14"
  }
 },
 "nbformat": 4,
 "nbformat_minor": 5
}
